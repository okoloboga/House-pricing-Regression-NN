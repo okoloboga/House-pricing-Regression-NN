{
 "cells": [
  {
   "cell_type": "code",
   "execution_count": null,
   "metadata": {
    "execution": {
     "iopub.execute_input": "2023-03-27T13:07:57.122303Z",
     "iopub.status.busy": "2023-03-27T13:07:57.121288Z",
     "iopub.status.idle": "2023-03-27T13:08:11.290825Z",
     "shell.execute_reply": "2023-03-27T13:08:11.289741Z",
     "shell.execute_reply.started": "2023-03-27T13:07:57.122256Z"
    }
   },
   "outputs": [],
   "source": [
    "import numpy as np\n",
    "import pandas as pd\n",
    "import seaborn as sb\n",
    "import lightgbm as lgb\n",
    "import matplotlib.pyplot as plt\n",
    "import math\n",
    "\n",
    "from sklearn.decomposition import PCA\n",
    "from sklearn.preprocessing import StandardScaler\n",
    "from sklearn.metrics import mean_squared_log_error\n",
    "from sklearn.model_selection import train_test_split\n",
    "\n",
    "from tensorflow import keras\n",
    "from keras import backend as K\n",
    "from keras import models\n",
    "from keras import layers\n",
    "from lightgbm import LGBMRegressor\n",
    "from catboost import CatBoostRegressor\n",
    "\n",
    "df = pd.read_csv('/kaggle/input/playground-series-s3e11/train.csv')\n",
    "\n",
    "df.head(5)"
   ]
  },
  {
   "cell_type": "code",
   "execution_count": null,
   "metadata": {
    "execution": {
     "iopub.execute_input": "2023-03-27T13:08:11.293177Z",
     "iopub.status.busy": "2023-03-27T13:08:11.292800Z",
     "iopub.status.idle": "2023-03-27T13:08:11.315194Z",
     "shell.execute_reply": "2023-03-27T13:08:11.313658Z",
     "shell.execute_reply.started": "2023-03-27T13:08:11.293129Z"
    }
   },
   "outputs": [],
   "source": [
    "# Sort by nulls in columns\n",
    "\n",
    "pd.set_option('display.max_rows', df.shape[0])\n",
    "pd.DataFrame(df.isnull().sum().sort_values(ascending = False))"
   ]
  },
  {
   "cell_type": "markdown",
   "metadata": {},
   "source": [
    "Lets see whats happend here"
   ]
  },
  {
   "cell_type": "markdown",
   "metadata": {},
   "source": [
    "I'll use two different regressors and one neural network to get result."
   ]
  },
  {
   "cell_type": "code",
   "execution_count": null,
   "metadata": {
    "execution": {
     "iopub.execute_input": "2023-03-27T13:08:11.317119Z",
     "iopub.status.busy": "2023-03-27T13:08:11.316772Z",
     "iopub.status.idle": "2023-03-27T13:08:13.023735Z",
     "shell.execute_reply": "2023-03-27T13:08:13.022696Z",
     "shell.execute_reply.started": "2023-03-27T13:08:11.317088Z"
    }
   },
   "outputs": [],
   "source": [
    "print(df.corr())\n",
    "\n",
    "plt.figure(figsize = (20,20))\n",
    "dataplot = sb.heatmap(df.corr(), cmap=\"YlGnBu\", annot=True)\n",
    "plt.show()"
   ]
  },
  {
   "cell_type": "markdown",
   "metadata": {},
   "source": [
    "Extracting labels, delete salad_bar, as copy of another feature, and delete id column\n",
    "\n",
    "Scaling aas default"
   ]
  },
  {
   "cell_type": "code",
   "execution_count": null,
   "metadata": {
    "execution": {
     "iopub.execute_input": "2023-03-27T13:08:13.026932Z",
     "iopub.status.busy": "2023-03-27T13:08:13.026227Z",
     "iopub.status.idle": "2023-03-27T13:08:13.101793Z",
     "shell.execute_reply": "2023-03-27T13:08:13.100713Z",
     "shell.execute_reply.started": "2023-03-27T13:08:13.026893Z"
    }
   },
   "outputs": [],
   "source": [
    "label = df['cost']\n",
    "\n",
    "del df['id']\n",
    "del df['cost']\n",
    "del df['salad_bar']\n",
    "\n",
    "scaler = StandardScaler()\n",
    "train = pd.DataFrame(scaler.fit_transform(df),columns = df.columns)\n",
    "\n",
    "train.head(5)"
   ]
  },
  {
   "cell_type": "markdown",
   "metadata": {},
   "source": [
    "Splitting data on test and train datasets, and splitting specialy for different models, with different random_states"
   ]
  },
  {
   "cell_type": "markdown",
   "metadata": {},
   "source": [
    "For NeuralNetwork model i normalize data by /100, after that i can use Dense Layer with single output, that returns 0-2.\n",
    "\n",
    "To have actual prediction, i will bring pred back by 'x100.\n",
    "\n",
    "yes, on test dataset it will make losses, but not so much\n",
    "Comfort of working is more important"
   ]
  },
  {
   "cell_type": "code",
   "execution_count": null,
   "metadata": {
    "execution": {
     "iopub.execute_input": "2023-03-27T13:08:13.103643Z",
     "iopub.status.busy": "2023-03-27T13:08:13.103343Z",
     "iopub.status.idle": "2023-03-27T13:08:13.274674Z",
     "shell.execute_reply": "2023-03-27T13:08:13.273549Z",
     "shell.execute_reply.started": "2023-03-27T13:08:13.103614Z"
    }
   },
   "outputs": [],
   "source": [
    "x_train, x_test, y_train, y_test = train_test_split(\n",
    "    train, label, test_size = 0.276, random_state = 1337)\n",
    "\n",
    "y_train_d = y_train / 100\n",
    "y_test_d = y_test / 100\n",
    "\n",
    "x_train_lgbm, x_test_lgbm, y_train_lgbm, y_test_lgbm = train_test_split(\n",
    "    train, label, test_size = 0.27, random_state = 37)\n",
    "\n",
    "x_train_cat, x_test_cat, y_train_cat, y_test_cat = train_test_split(\n",
    "    train, label, test_size = 0.25, random_state = 13)"
   ]
  },
  {
   "cell_type": "markdown",
   "metadata": {},
   "source": [
    "First model is LGBMRegressor. I've tested that regressor in another competition, and it works good"
   ]
  },
  {
   "cell_type": "code",
   "execution_count": null,
   "metadata": {
    "execution": {
     "iopub.execute_input": "2023-03-27T13:08:13.277151Z",
     "iopub.status.busy": "2023-03-27T13:08:13.276327Z",
     "iopub.status.idle": "2023-03-27T13:09:29.781626Z",
     "shell.execute_reply": "2023-03-27T13:09:29.780146Z",
     "shell.execute_reply.started": "2023-03-27T13:08:13.277115Z"
    }
   },
   "outputs": [],
   "source": [
    "lgbm = LGBMRegressor(objective = 'regression', \n",
    "                     num_leaves = 1750,\n",
    "                     max_depth = 40,\n",
    "                     min_child_samples = 50,\n",
    "                     learning_rate = 0.025, \n",
    "                     n_estimators = 114,\n",
    "                     random_state = 1337).fit(x_train_lgbm, y_train_lgbm)\n",
    "lgbm_train_predict = abs(lgbm.predict(x_test_lgbm))\n",
    "rmsle = mean_squared_log_error(y_test_lgbm, lgbm_train_predict, squared=False)\n",
    "print(rmsle)"
   ]
  },
  {
   "cell_type": "markdown",
   "metadata": {},
   "source": [
    "CatBoostRegressor works great, but it havent RMSLE as loss function\n",
    "And so, i have to make that loss function custom. realy, i've seen solution for that problem on the habr.com\n",
    "link on te post below, in code"
   ]
  },
  {
   "cell_type": "code",
   "execution_count": null,
   "metadata": {
    "execution": {
     "iopub.execute_input": "2023-03-27T13:09:29.783117Z",
     "iopub.status.busy": "2023-03-27T13:09:29.782752Z",
     "iopub.status.idle": "2023-03-27T13:09:43.637103Z",
     "shell.execute_reply": "2023-03-27T13:09:43.635866Z",
     "shell.execute_reply.started": "2023-03-27T13:09:29.783072Z"
    }
   },
   "outputs": [],
   "source": [
    "class RMSLE(object):\n",
    "#thnx to this post https://habr.com/ru/sandbox/163469/\n",
    "\n",
    "    def calc_ders_range(self, approxes, targets, weights):\n",
    "        assert len(approxes) == len(targets)\n",
    "        if weights is not None:\n",
    "            assert len(weights) == len(approxes)\n",
    "\n",
    "        result = []\n",
    "        for index in range(len(targets)):\n",
    "            val = max(approxes[index], 0)\n",
    "            der1 = math.log1p(targets[index]) - math.log1p(max(0, approxes[index]))\n",
    "            der2 = -1 / (max(0, approxes[index]) + 1)\n",
    "\n",
    "            if weights is not None:\n",
    "                der1 *= weights[index]\n",
    "                der2 *= weights[index]\n",
    "\n",
    "            result.append((der1, der2))\n",
    "        return result\n",
    "    \n",
    "class RMSLE_val(object):\n",
    "    def get_final_error(self, error, weight):\n",
    "        return np.sqrt(error / (weight + 1e-38))\n",
    "\n",
    "    def is_max_optimal(self):\n",
    "        return False\n",
    "\n",
    "    def evaluate(self, approxes, target, weight):\n",
    "        assert len(approxes) == 1\n",
    "        assert len(target) == len(approxes[0])\n",
    "\n",
    "        approx = approxes[0]\n",
    "\n",
    "        error_sum = 0.0\n",
    "        weight_sum = 0.0\n",
    "\n",
    "        for i in range(len(approx)):\n",
    "            w = 1.0 if weight is None else weight[i]\n",
    "            weight_sum += w\n",
    "            error_sum += w * ((math.log1p(max(0, approx[i])) - math.log1p(max(0, target[i])))**2)\n",
    "\n",
    "        return error_sum, weight_sum\n",
    "\n",
    "\n",
    "cat = CatBoostRegressor(iterations = 100,\n",
    "                          loss_function = RMSLE(),\n",
    "                          learning_rate = 0.75,\n",
    "                          verbose = 10,\n",
    "                          eval_metric = RMSLE_val()).fit(x_train_lgbm, y_train_lgbm)\n",
    "cat_train_predict = abs(cat.predict(x_test_lgbm))\n",
    "rmsle_c = mean_squared_log_error(y_test_lgbm, cat_train_predict, squared=False)\n",
    "print(rmsle_c)"
   ]
  },
  {
   "cell_type": "markdown",
   "metadata": {},
   "source": [
    "And NeuralNetwork, that fittin on downgraded lables by /100\n",
    "i've show RMSLE with bringed back lables"
   ]
  },
  {
   "cell_type": "code",
   "execution_count": null,
   "metadata": {
    "execution": {
     "iopub.execute_input": "2023-03-27T13:09:43.640133Z",
     "iopub.status.busy": "2023-03-27T13:09:43.638390Z",
     "iopub.status.idle": "2023-03-27T13:14:50.968313Z",
     "shell.execute_reply": "2023-03-27T13:14:50.967054Z",
     "shell.execute_reply.started": "2023-03-27T13:09:43.640087Z"
    }
   },
   "outputs": [],
   "source": [
    " model = keras.Sequential([\n",
    "        layers.Dense(512, activation=\"relu\"),\n",
    "        layers.Dense(256, activation=\"relu\"),\n",
    "        layers.Dropout(0.1),\n",
    "        layers.Dense(128, activation=\"relu\"),\n",
    "        layers.Dropout(0.2),\n",
    "        layers.Dense(64, activation=\"relu\"),\n",
    "        layers.Dense(32, activation=\"relu\"),\n",
    "        layers.Dense(16, activation=\"relu\"),\n",
    "        layers.Dense(1)\n",
    "    ])\n",
    "\n",
    "def root_mean_squared_log_error(y_true, y_pred):\n",
    "        return K.sqrt(K.mean(K.square((K.log(y_pred + 1) - K.log(y_true + 1)))))\n",
    "\n",
    "model.compile(optimizer=\"Adam\",\n",
    "             loss=root_mean_squared_log_error,\n",
    "             metrics=[\"accuracy\"])\n",
    "\n",
    "model.fit(x_train, y_train_d, epochs = 20, batch_size = 128)\n",
    "\n",
    "model_predict = abs(model.predict(x_test))\n",
    "rmsle_1 = mean_squared_log_error(y_test_d, model_predict, squared=False)\n",
    "\n",
    "model_predict *= 100\n",
    "rmsle_2 = mean_squared_log_error(y_test, model_predict, squared=False)\n",
    "\n",
    "print(rmsle_1)\n",
    "print(rmsle_2)"
   ]
  },
  {
   "cell_type": "markdown",
   "metadata": {},
   "source": [
    "Preparing test data"
   ]
  },
  {
   "cell_type": "code",
   "execution_count": null,
   "metadata": {
    "execution": {
     "iopub.execute_input": "2023-03-27T13:14:50.970192Z",
     "iopub.status.busy": "2023-03-27T13:14:50.969722Z",
     "iopub.status.idle": "2023-03-27T13:14:51.464731Z",
     "shell.execute_reply": "2023-03-27T13:14:51.463627Z",
     "shell.execute_reply.started": "2023-03-27T13:14:50.970053Z"
    }
   },
   "outputs": [],
   "source": [
    "test = pd.read_csv('/kaggle/input/playground-series-s3e11/test.csv')\n",
    "test.head(5)"
   ]
  },
  {
   "cell_type": "code",
   "execution_count": null,
   "metadata": {
    "execution": {
     "iopub.execute_input": "2023-03-27T13:14:51.467710Z",
     "iopub.status.busy": "2023-03-27T13:14:51.467363Z",
     "iopub.status.idle": "2023-03-27T13:14:51.505883Z",
     "shell.execute_reply": "2023-03-27T13:14:51.505074Z",
     "shell.execute_reply.started": "2023-03-27T13:14:51.467683Z"
    }
   },
   "outputs": [],
   "source": [
    "del test['id']\n",
    "del test['salad_bar']\n",
    "\n",
    "test = pd.DataFrame(scaler.fit_transform(test), columns = test.columns)"
   ]
  },
  {
   "cell_type": "markdown",
   "metadata": {},
   "source": [
    "I've made predictions on every model and find mean result of them\n",
    "This mean result i'll use in submission"
   ]
  },
  {
   "cell_type": "code",
   "execution_count": null,
   "metadata": {
    "execution": {
     "iopub.execute_input": "2023-03-27T13:14:51.507845Z",
     "iopub.status.busy": "2023-03-27T13:14:51.506901Z",
     "iopub.status.idle": "2023-03-27T13:15:44.345573Z",
     "shell.execute_reply": "2023-03-27T13:15:44.344276Z",
     "shell.execute_reply.started": "2023-03-27T13:14:51.507811Z"
    }
   },
   "outputs": [],
   "source": [
    "lgbm_test_predict = abs(lgbm.predict(test)).reshape(-1, 1)\n",
    "cat_test_predict = abs(cat.predict(test)).reshape(-1, 1)\n",
    "model_test_predict = 100 * abs(model.predict(test)).reshape(-1, 1)\n",
    "\n",
    "cost_0 = pd.DataFrame(data = lgbm_test_predict, columns = ['cost_0'])\n",
    "cost_1 = pd.DataFrame(data = cat_test_predict, columns = ['cost_1'])\n",
    "cost_2 = pd.DataFrame(data = model_test_predict, columns = ['cost_2'])\n",
    "cost = pd.concat([cost_0, cost_1, cost_2], axis = 1)\n",
    "cost = cost.mean(axis = 1)\n",
    "cost = pd.DataFrame(data = cost, columns = ['cost'])\n",
    "cost.head(5)"
   ]
  },
  {
   "cell_type": "code",
   "execution_count": null,
   "metadata": {
    "execution": {
     "iopub.execute_input": "2023-03-27T13:15:44.347147Z",
     "iopub.status.busy": "2023-03-27T13:15:44.346763Z",
     "iopub.status.idle": "2023-03-27T13:15:44.955889Z",
     "shell.execute_reply": "2023-03-27T13:15:44.954640Z",
     "shell.execute_reply.started": "2023-03-27T13:15:44.347111Z"
    }
   },
   "outputs": [],
   "source": [
    "Id = pd.read_csv('/kaggle/input/playground-series-s3e11/test.csv')\n",
    "submission = pd.DataFrame(Id['id'])\n",
    "result = pd.concat([submission, cost], axis = 1)\n",
    "result.to_csv('/kaggle/working/submission.csv', index = False)\n",
    "result.head(10)"
   ]
  }
 ],
 "metadata": {
  "kernelspec": {
   "display_name": "Python 3 (ipykernel)",
   "language": "python",
   "name": "python3"
  },
  "language_info": {
   "codemirror_mode": {
    "name": "ipython",
    "version": 3
   },
   "file_extension": ".py",
   "mimetype": "text/x-python",
   "name": "python",
   "nbconvert_exporter": "python",
   "pygments_lexer": "ipython3",
   "version": "3.10.6"
  }
 },
 "nbformat": 4,
 "nbformat_minor": 4
}
